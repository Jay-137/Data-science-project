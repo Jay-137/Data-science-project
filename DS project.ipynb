{
  "metadata": {
    "kernelspec": {
      "name": "python",
      "display_name": "Python (Pyodide)",
      "language": "python"
    },
    "language_info": {
      "codemirror_mode": {
        "name": "python",
        "version": 3
      },
      "file_extension": ".py",
      "mimetype": "text/x-python",
      "name": "python",
      "nbconvert_exporter": "python",
      "pygments_lexer": "ipython3",
      "version": "3.8"
    }
  },
  "nbformat_minor": 4,
  "nbformat": 4,
  "cells": [
    {
      "cell_type": "markdown",
      "source": "# DATA SCIENCE PROJECT FOR COURSERA",
      "metadata": {}
    },
    {
      "cell_type": "markdown",
      "source": "## Introduction\n\nThis notebook provides an overview of data science tools and demonstrates some basic functionalities using Jupyter Notebook.\n",
      "metadata": {}
    },
    {
      "cell_type": "markdown",
      "source": "## Data Science Languages\n\n- Python\n- R\n- SQL\n- Julia\n- Scala\n",
      "metadata": {}
    },
    {
      "cell_type": "markdown",
      "source": "## Data Science Libraries\n\n- NumPy\n- pandas\n- scikit-learn\n- TensorFlow\n- Keras\n- PyTorch\n",
      "metadata": {}
    },
    {
      "cell_type": "markdown",
      "source": "## Data Science Tools\n\n| Tool           | Description                           |\n|----------------|---------------------------------------|\n| Jupyter Notebook | Interactive coding environment       |\n| RStudio        | Integrated development environment for R |\n| Apache Spark   | Big data processing framework         |\n| Tableau        | Data visualization tool               |\n| GitHub          | Version control and collaboration platform |\n",
      "metadata": {}
    },
    {
      "cell_type": "markdown",
      "source": "## Arithmetic Expression Examples\n\nIn this section, we will explore some basic arithmetic expressions using code cells.\n",
      "metadata": {}
    },
    {
      "cell_type": "code",
      "source": "# Multiply and add numbers\na = 5\nb = 3\nproduct = a * b\nsum_result = a + b\n\nproduct, sum_result\n",
      "metadata": {
        "trusted": true
      },
      "outputs": [
        {
          "execution_count": 4,
          "output_type": "execute_result",
          "data": {
            "text/plain": "(15, 8)"
          },
          "metadata": {}
        }
      ],
      "execution_count": 4
    },
    {
      "cell_type": "code",
      "source": "# Convert minutes to hours\ndef minutes_to_hours(minutes):\n    return minutes / 60\n\nminutes = 120\nhours = minutes_to_hours(minutes)\nhours\n",
      "metadata": {
        "trusted": true
      },
      "outputs": [
        {
          "execution_count": 2,
          "output_type": "execute_result",
          "data": {
            "text/plain": "2.0"
          },
          "metadata": {}
        }
      ],
      "execution_count": 2
    },
    {
      "cell_type": "markdown",
      "source": "## Objectives\n\n- Learn how to use Jupyter Notebook for basic arithmetic operations.\n- Explore data science languages and libraries.\n- Understand how to create and use markdown cells.\n- Get familiar with converting units and performing basic calculations.\n",
      "metadata": {}
    },
    {
      "cell_type": "markdown",
      "source": "## Author\n\nJayanaath",
      "metadata": {}
    },
    {
      "cell_type": "code",
      "source": "",
      "metadata": {
        "trusted": true
      },
      "outputs": [],
      "execution_count": null
    }
  ]
}